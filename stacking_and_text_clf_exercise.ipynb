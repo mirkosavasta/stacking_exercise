{
 "cells": [
  {
   "cell_type": "markdown",
   "metadata": {},
   "source": [
    "# Spooky Authors Identification\n",
    "\n",
    "The project is a multiclass text classification project. Given some text the model should be able to correctly guess who's the author. With this project, for the first time, I used a semi-professional approach. In particular, I made an extensive use of Scikit-Learn pipelines, created checkpoints to save already processed feature matrices, performed proper feature selection, used dimensionality reduction techniques (NMF and TSVD), optimized parameters with RandomSearch, abused cross-validation and implemented Stacking! I stacked 4 different models trained on diverse sets of features."
   ]
  },
  {
   "cell_type": "markdown",
   "metadata": {},
   "source": [
    "## Things I learnt working on this project\n",
    "\n",
    "- Stacking is useful but we should be careful to avoid overfitting. In particular, if we don't use cross validation to create meta features then there's a huge probability of overfitting because there is information leaking out of the training set. For this project SatckingCVClassifier wildly outperforms StackingClassifier (validation log-loss of 1.41 vs 0.66)\n",
    "- All sklearn estimators handle multi-class problems automatically. Internally categories will be converted to integers if the algorithm supports native multi-class problems or one-hot encodings if the algorithm handles multi-class problems by transforming to binary. For example logistic regression, multilayer perceptron, Gaussian naive Bayes, and random forest are Inherently multiclass estimators. Others like SGD, or LinearSVC use one-vs-rest approach to handle multi-class but this, as mentioned above, will be handled internally by sklearn, so you don't need to do anything but pass multi-class labels (even as strings) in a single array of y to all estimators. Only thing where the user needs to explicitly convert labels to one-hot encoding is the multi-label problem, where more than one label can be predicted for a sample.\n",
    "- Saving partial work and creating checkpoints can speed up work.\n",
    "- SFS takes a lot of time if the number of features is not small\n",
    "- I learnt how to use CloudWatch Alerts on AWS\n",
    "- I learnt ho to use the screen command on a linux terminal (very useful if you want your commands to keep running even if you lose the ssh connection"
   ]
  },
  {
   "cell_type": "markdown",
   "metadata": {},
   "source": [
    "## Potential Improvements to this Notebook\n",
    "\n",
    "My objective was applying things I have learnt during the last months. I did not focus much on pure performance so I think I could improve this kernel:\n",
    "\n",
    "- focusing more on feature engineering (I could have used also raw features instead of only using dimensionality reduction techniques) \n",
    "- devoting more time (and resources) to hyperparameter tuning. In particular, I could have explored more of the hyperparameter space with random search\n",
    "- adding more an better models"
   ]
  },
  {
   "cell_type": "markdown",
   "metadata": {},
   "source": [
    "## AutoML and Bayesian HyperParameter Optimization for the next project\n",
    "\n",
    "I think autoML libraries have a great potential as they can really speed up data scientists in their work. Therefore I plan to start exploring autosklearn in my next project. "
   ]
  },
  {
   "cell_type": "markdown",
   "metadata": {},
   "source": [
    "## Import Libraries"
   ]
  },
  {
   "cell_type": "code",
   "execution_count": 1,
   "metadata": {},
   "outputs": [],
   "source": [
    "## Basics\n",
    "import pandas as pd\n",
    "import numpy as np\n",
    "import seaborn as sns\n",
    "import matplotlib.pyplot as plt\n",
    "import itertools\n",
    "import string\n",
    "\n",
    "## SkLearn\n",
    "from sklearn.feature_extraction.text import CountVectorizer, TfidfVectorizer\n",
    "from sklearn.linear_model import LogisticRegression, RidgeClassifier\n",
    "from sklearn.pipeline import make_pipeline, FeatureUnion\n",
    "from sklearn.model_selection import train_test_split, RandomizedSearchCV, cross_val_score, cross_val_predict\n",
    "from sklearn.preprocessing import FunctionTransformer, StandardScaler, LabelEncoder\n",
    "from sklearn.ensemble import RandomForestClassifier\n",
    "from sklearn.metrics import confusion_matrix, log_loss\n",
    "from sklearn.decomposition import NMF, TruncatedSVD\n",
    "from sklearn.naive_bayes import GaussianNB\n",
    "from sklearn.feature_selection import SelectFromModel\n",
    "\n",
    "## NLTK\n",
    "import nltk\n",
    "from nltk.corpus import stopwords\n",
    "\n",
    "## Custom\n",
    "from utils import get_num_columns, get_pos_tags_data, get_text_data\n",
    "\n",
    "## MLXtend\n",
    "from mlxtend.plotting import plot_confusion_matrix\n",
    "from mlxtend.feature_selection import SequentialFeatureSelector as SFS\n",
    "from mlxtend.feature_selection import ColumnSelector\n",
    "from mlxtend.classifier import StackingClassifier, StackingCVClassifier \n",
    "\n",
    "## Auto SKlearn\n",
    "#from autosklearn.classification import AutoSklearnClassifier\n",
    "\n",
    "## Pickle\n",
    "import pickle\n",
    "\n",
    "## Xgboost\n",
    "from xgboost import XGBClassifier\n",
    "\n",
    "## Ignore Warnings \n",
    "import warnings\n",
    "warnings.filterwarnings('ignore')\n",
    "\n",
    "## Seed pseudo random number generator\n",
    "np.random.seed(42)"
   ]
  },
  {
   "cell_type": "markdown",
   "metadata": {},
   "source": [
    "## Read the data"
   ]
  },
  {
   "cell_type": "code",
   "execution_count": 2,
   "metadata": {},
   "outputs": [
    {
     "data": {
      "text/html": [
       "<div>\n",
       "<style scoped>\n",
       "    .dataframe tbody tr th:only-of-type {\n",
       "        vertical-align: middle;\n",
       "    }\n",
       "\n",
       "    .dataframe tbody tr th {\n",
       "        vertical-align: top;\n",
       "    }\n",
       "\n",
       "    .dataframe thead th {\n",
       "        text-align: right;\n",
       "    }\n",
       "</style>\n",
       "<table border=\"1\" class=\"dataframe\">\n",
       "  <thead>\n",
       "    <tr style=\"text-align: right;\">\n",
       "      <th></th>\n",
       "      <th>id</th>\n",
       "      <th>text</th>\n",
       "      <th>author</th>\n",
       "    </tr>\n",
       "  </thead>\n",
       "  <tbody>\n",
       "    <tr>\n",
       "      <th>0</th>\n",
       "      <td>id26305</td>\n",
       "      <td>This process, however, afforded me no means of...</td>\n",
       "      <td>EAP</td>\n",
       "    </tr>\n",
       "    <tr>\n",
       "      <th>1</th>\n",
       "      <td>id17569</td>\n",
       "      <td>It never once occurred to me that the fumbling...</td>\n",
       "      <td>HPL</td>\n",
       "    </tr>\n",
       "    <tr>\n",
       "      <th>2</th>\n",
       "      <td>id11008</td>\n",
       "      <td>In his left hand was a gold snuff box, from wh...</td>\n",
       "      <td>EAP</td>\n",
       "    </tr>\n",
       "    <tr>\n",
       "      <th>3</th>\n",
       "      <td>id27763</td>\n",
       "      <td>How lovely is spring As we looked from Windsor...</td>\n",
       "      <td>MWS</td>\n",
       "    </tr>\n",
       "    <tr>\n",
       "      <th>4</th>\n",
       "      <td>id12958</td>\n",
       "      <td>Finding nothing else, not even gold, the Super...</td>\n",
       "      <td>HPL</td>\n",
       "    </tr>\n",
       "  </tbody>\n",
       "</table>\n",
       "</div>"
      ],
      "text/plain": [
       "        id                                               text author\n",
       "0  id26305  This process, however, afforded me no means of...    EAP\n",
       "1  id17569  It never once occurred to me that the fumbling...    HPL\n",
       "2  id11008  In his left hand was a gold snuff box, from wh...    EAP\n",
       "3  id27763  How lovely is spring As we looked from Windsor...    MWS\n",
       "4  id12958  Finding nothing else, not even gold, the Super...    HPL"
      ]
     },
     "execution_count": 2,
     "metadata": {},
     "output_type": "execute_result"
    }
   ],
   "source": [
    "train = pd.read_csv(\"train.csv\")\n",
    "train.head()"
   ]
  },
  {
   "cell_type": "markdown",
   "metadata": {},
   "source": [
    "## Create basic text features"
   ]
  },
  {
   "cell_type": "markdown",
   "metadata": {},
   "source": [
    "Let's create basic features such as number of characters, number of stopwords, etc..."
   ]
  },
  {
   "cell_type": "code",
   "execution_count": 3,
   "metadata": {
    "inputHidden": false,
    "outputHidden": false
   },
   "outputs": [
    {
     "data": {
      "text/html": [
       "<div>\n",
       "<style scoped>\n",
       "    .dataframe tbody tr th:only-of-type {\n",
       "        vertical-align: middle;\n",
       "    }\n",
       "\n",
       "    .dataframe tbody tr th {\n",
       "        vertical-align: top;\n",
       "    }\n",
       "\n",
       "    .dataframe thead th {\n",
       "        text-align: right;\n",
       "    }\n",
       "</style>\n",
       "<table border=\"1\" class=\"dataframe\">\n",
       "  <thead>\n",
       "    <tr style=\"text-align: right;\">\n",
       "      <th></th>\n",
       "      <th>n_characters</th>\n",
       "      <th>n_words</th>\n",
       "      <th>n_unique_words</th>\n",
       "      <th>n_stopwords</th>\n",
       "      <th>word_density</th>\n",
       "      <th>punctuation_count</th>\n",
       "      <th>punctuation_density</th>\n",
       "      <th>avg_len_words</th>\n",
       "      <th>num_upper</th>\n",
       "      <th>num_capital</th>\n",
       "    </tr>\n",
       "  </thead>\n",
       "  <tbody>\n",
       "    <tr>\n",
       "      <th>count</th>\n",
       "      <td>19579.000000</td>\n",
       "      <td>19579.000000</td>\n",
       "      <td>19579.000000</td>\n",
       "      <td>19579.000000</td>\n",
       "      <td>19579.000000</td>\n",
       "      <td>19579.000000</td>\n",
       "      <td>19579.000000</td>\n",
       "      <td>19579.000000</td>\n",
       "      <td>19579.000000</td>\n",
       "      <td>19579.000000</td>\n",
       "    </tr>\n",
       "    <tr>\n",
       "      <th>mean</th>\n",
       "      <td>149.057408</td>\n",
       "      <td>26.730477</td>\n",
       "      <td>23.136115</td>\n",
       "      <td>13.069820</td>\n",
       "      <td>0.181536</td>\n",
       "      <td>3.759283</td>\n",
       "      <td>0.028678</td>\n",
       "      <td>4.624827</td>\n",
       "      <td>2.176005</td>\n",
       "      <td>0.599213</td>\n",
       "    </tr>\n",
       "    <tr>\n",
       "      <th>std</th>\n",
       "      <td>106.800189</td>\n",
       "      <td>19.048353</td>\n",
       "      <td>13.457922</td>\n",
       "      <td>9.774894</td>\n",
       "      <td>0.018997</td>\n",
       "      <td>3.009744</td>\n",
       "      <td>0.020427</td>\n",
       "      <td>0.589194</td>\n",
       "      <td>1.965863</td>\n",
       "      <td>0.994366</td>\n",
       "    </tr>\n",
       "    <tr>\n",
       "      <th>min</th>\n",
       "      <td>21.000000</td>\n",
       "      <td>2.000000</td>\n",
       "      <td>2.000000</td>\n",
       "      <td>0.000000</td>\n",
       "      <td>0.086957</td>\n",
       "      <td>1.000000</td>\n",
       "      <td>0.000440</td>\n",
       "      <td>2.000000</td>\n",
       "      <td>0.000000</td>\n",
       "      <td>0.000000</td>\n",
       "    </tr>\n",
       "    <tr>\n",
       "      <th>25%</th>\n",
       "      <td>81.000000</td>\n",
       "      <td>15.000000</td>\n",
       "      <td>14.000000</td>\n",
       "      <td>7.000000</td>\n",
       "      <td>0.169492</td>\n",
       "      <td>2.000000</td>\n",
       "      <td>0.016949</td>\n",
       "      <td>4.250000</td>\n",
       "      <td>1.000000</td>\n",
       "      <td>0.000000</td>\n",
       "    </tr>\n",
       "    <tr>\n",
       "      <th>50%</th>\n",
       "      <td>128.000000</td>\n",
       "      <td>23.000000</td>\n",
       "      <td>21.000000</td>\n",
       "      <td>11.000000</td>\n",
       "      <td>0.180380</td>\n",
       "      <td>3.000000</td>\n",
       "      <td>0.023729</td>\n",
       "      <td>4.590909</td>\n",
       "      <td>2.000000</td>\n",
       "      <td>0.000000</td>\n",
       "    </tr>\n",
       "    <tr>\n",
       "      <th>75%</th>\n",
       "      <td>191.000000</td>\n",
       "      <td>34.000000</td>\n",
       "      <td>30.000000</td>\n",
       "      <td>17.000000</td>\n",
       "      <td>0.192308</td>\n",
       "      <td>5.000000</td>\n",
       "      <td>0.033898</td>\n",
       "      <td>4.952381</td>\n",
       "      <td>3.000000</td>\n",
       "      <td>1.000000</td>\n",
       "    </tr>\n",
       "    <tr>\n",
       "      <th>max</th>\n",
       "      <td>4663.000000</td>\n",
       "      <td>861.000000</td>\n",
       "      <td>429.000000</td>\n",
       "      <td>435.000000</td>\n",
       "      <td>0.337500</td>\n",
       "      <td>71.000000</td>\n",
       "      <td>0.483051</td>\n",
       "      <td>11.000000</td>\n",
       "      <td>46.000000</td>\n",
       "      <td>27.000000</td>\n",
       "    </tr>\n",
       "  </tbody>\n",
       "</table>\n",
       "</div>"
      ],
      "text/plain": [
       "       n_characters       n_words  n_unique_words   n_stopwords  word_density  \\\n",
       "count  19579.000000  19579.000000    19579.000000  19579.000000  19579.000000   \n",
       "mean     149.057408     26.730477       23.136115     13.069820      0.181536   \n",
       "std      106.800189     19.048353       13.457922      9.774894      0.018997   \n",
       "min       21.000000      2.000000        2.000000      0.000000      0.086957   \n",
       "25%       81.000000     15.000000       14.000000      7.000000      0.169492   \n",
       "50%      128.000000     23.000000       21.000000     11.000000      0.180380   \n",
       "75%      191.000000     34.000000       30.000000     17.000000      0.192308   \n",
       "max     4663.000000    861.000000      429.000000    435.000000      0.337500   \n",
       "\n",
       "       punctuation_count  punctuation_density  avg_len_words     num_upper  \\\n",
       "count       19579.000000         19579.000000   19579.000000  19579.000000   \n",
       "mean            3.759283             0.028678       4.624827      2.176005   \n",
       "std             3.009744             0.020427       0.589194      1.965863   \n",
       "min             1.000000             0.000440       2.000000      0.000000   \n",
       "25%             2.000000             0.016949       4.250000      1.000000   \n",
       "50%             3.000000             0.023729       4.590909      2.000000   \n",
       "75%             5.000000             0.033898       4.952381      3.000000   \n",
       "max            71.000000             0.483051      11.000000     46.000000   \n",
       "\n",
       "        num_capital  \n",
       "count  19579.000000  \n",
       "mean       0.599213  \n",
       "std        0.994366  \n",
       "min        0.000000  \n",
       "25%        0.000000  \n",
       "50%        0.000000  \n",
       "75%        1.000000  \n",
       "max       27.000000  "
      ]
     },
     "execution_count": 3,
     "metadata": {},
     "output_type": "execute_result"
    }
   ],
   "source": [
    "## Define function I will apply to df\n",
    "def text_features(df):\n",
    "    ## Stopwords\n",
    "    eng_stopwords = set(stopwords.words(\"english\"))\n",
    "    ## Number of characters\n",
    "    df[\"n_characters\"] = df.text.apply(len)\n",
    "    ## Number of words\n",
    "    df[\"n_words\"] = df.text.apply(lambda x: len(x.split()))\n",
    "    ## Number of unique words\n",
    "    df[\"n_unique_words\"] = df.text.apply(lambda x: len(set(x.split())))\n",
    "    ## Number of StopWords\n",
    "    df[\"n_stopwords\"] = df.text.apply(lambda x: len([w for w in x.lower().split() if w in eng_stopwords]))\n",
    "    ## Word density\n",
    "    df[\"word_density\"] = df.n_words/df.n_characters\n",
    "    ## Punctuation count\n",
    "    df[\"punctuation_count\"] = df.text.apply(lambda x: len([character for character in x if character in string.punctuation]))\n",
    "    ## Punctuation density\n",
    "    df[\"punctuation_density\"] = df.punctuation_count / df.n_characters\n",
    "    ## Avg lenght of words in text\n",
    "    df[\"avg_len_words\"] = df.text.apply(lambda x: np.mean([len(w) for w in x.split()]))\n",
    "    ## Number of words that start with upper case\n",
    "    df[\"num_upper\"] = df.text.apply(lambda x: len([w for w in x.split() if w.istitle()]))\n",
    "    ## Number of words written in capital letters\n",
    "    df[\"num_capital\"] = df.text.apply(lambda x: len([w for w in x.split() if w.isupper()]))\n",
    "    return df\n",
    "\n",
    "## Apply function to df\n",
    "train = text_features(train)\n",
    "train.describe()"
   ]
  },
  {
   "cell_type": "markdown",
   "metadata": {},
   "source": [
    "In the cell below I just appreciate that the sample is balanced, i.e. the classes are distributed almost uniformly."
   ]
  },
  {
   "cell_type": "code",
   "execution_count": 4,
   "metadata": {
    "inputHidden": false,
    "outputHidden": false
   },
   "outputs": [
    {
     "data": {
      "text/html": [
       "<div>\n",
       "<style scoped>\n",
       "    .dataframe tbody tr th:only-of-type {\n",
       "        vertical-align: middle;\n",
       "    }\n",
       "\n",
       "    .dataframe tbody tr th {\n",
       "        vertical-align: top;\n",
       "    }\n",
       "\n",
       "    .dataframe thead th {\n",
       "        text-align: right;\n",
       "    }\n",
       "</style>\n",
       "<table border=\"1\" class=\"dataframe\">\n",
       "  <thead>\n",
       "    <tr style=\"text-align: right;\">\n",
       "      <th>col_0</th>\n",
       "      <th>id</th>\n",
       "    </tr>\n",
       "    <tr>\n",
       "      <th>author</th>\n",
       "      <th></th>\n",
       "    </tr>\n",
       "  </thead>\n",
       "  <tbody>\n",
       "    <tr>\n",
       "      <th>EAP</th>\n",
       "      <td>7900</td>\n",
       "    </tr>\n",
       "    <tr>\n",
       "      <th>HPL</th>\n",
       "      <td>5635</td>\n",
       "    </tr>\n",
       "    <tr>\n",
       "      <th>MWS</th>\n",
       "      <td>6044</td>\n",
       "    </tr>\n",
       "  </tbody>\n",
       "</table>\n",
       "</div>"
      ],
      "text/plain": [
       "col_0     id\n",
       "author      \n",
       "EAP     7900\n",
       "HPL     5635\n",
       "MWS     6044"
      ]
     },
     "execution_count": 4,
     "metadata": {},
     "output_type": "execute_result"
    }
   ],
   "source": [
    "## Crosstab of author column\n",
    "pd.crosstab(train.author, \"id\")"
   ]
  },
  {
   "cell_type": "markdown",
   "metadata": {},
   "source": [
    "Now I write a function that maps tokens to part of speech tags and apply it to every piece of text. Have a look at the column pos_tags of the dataframe below."
   ]
  },
  {
   "cell_type": "code",
   "execution_count": 5,
   "metadata": {},
   "outputs": [
    {
     "data": {
      "text/html": [
       "<div>\n",
       "<style scoped>\n",
       "    .dataframe tbody tr th:only-of-type {\n",
       "        vertical-align: middle;\n",
       "    }\n",
       "\n",
       "    .dataframe tbody tr th {\n",
       "        vertical-align: top;\n",
       "    }\n",
       "\n",
       "    .dataframe thead th {\n",
       "        text-align: right;\n",
       "    }\n",
       "</style>\n",
       "<table border=\"1\" class=\"dataframe\">\n",
       "  <thead>\n",
       "    <tr style=\"text-align: right;\">\n",
       "      <th></th>\n",
       "      <th>id</th>\n",
       "      <th>text</th>\n",
       "      <th>author</th>\n",
       "      <th>n_characters</th>\n",
       "      <th>n_words</th>\n",
       "      <th>n_unique_words</th>\n",
       "      <th>n_stopwords</th>\n",
       "      <th>word_density</th>\n",
       "      <th>punctuation_count</th>\n",
       "      <th>punctuation_density</th>\n",
       "      <th>avg_len_words</th>\n",
       "      <th>num_upper</th>\n",
       "      <th>num_capital</th>\n",
       "      <th>pos_tags</th>\n",
       "    </tr>\n",
       "  </thead>\n",
       "  <tbody>\n",
       "    <tr>\n",
       "      <th>0</th>\n",
       "      <td>id26305</td>\n",
       "      <td>This process, however, afforded me no means of...</td>\n",
       "      <td>EAP</td>\n",
       "      <td>231</td>\n",
       "      <td>41</td>\n",
       "      <td>35</td>\n",
       "      <td>19</td>\n",
       "      <td>0.177489</td>\n",
       "      <td>7</td>\n",
       "      <td>0.030303</td>\n",
       "      <td>4.658537</td>\n",
       "      <td>3</td>\n",
       "      <td>2</td>\n",
       "      <td>DT NN , RB , VBD PRP DT NNS IN VBG DT NNS IN P...</td>\n",
       "    </tr>\n",
       "    <tr>\n",
       "      <th>1</th>\n",
       "      <td>id17569</td>\n",
       "      <td>It never once occurred to me that the fumbling...</td>\n",
       "      <td>HPL</td>\n",
       "      <td>71</td>\n",
       "      <td>14</td>\n",
       "      <td>14</td>\n",
       "      <td>8</td>\n",
       "      <td>0.197183</td>\n",
       "      <td>1</td>\n",
       "      <td>0.014085</td>\n",
       "      <td>4.142857</td>\n",
       "      <td>1</td>\n",
       "      <td>0</td>\n",
       "      <td>PRP RB RB VBD TO PRP IN DT NN MD VB DT JJ NN .</td>\n",
       "    </tr>\n",
       "    <tr>\n",
       "      <th>2</th>\n",
       "      <td>id11008</td>\n",
       "      <td>In his left hand was a gold snuff box, from wh...</td>\n",
       "      <td>EAP</td>\n",
       "      <td>200</td>\n",
       "      <td>36</td>\n",
       "      <td>32</td>\n",
       "      <td>16</td>\n",
       "      <td>0.180000</td>\n",
       "      <td>5</td>\n",
       "      <td>0.025000</td>\n",
       "      <td>4.583333</td>\n",
       "      <td>1</td>\n",
       "      <td>0</td>\n",
       "      <td>IN PRP$ JJ NN VBD DT JJ NN NN , IN WDT , IN PR...</td>\n",
       "    </tr>\n",
       "    <tr>\n",
       "      <th>3</th>\n",
       "      <td>id27763</td>\n",
       "      <td>How lovely is spring As we looked from Windsor...</td>\n",
       "      <td>MWS</td>\n",
       "      <td>206</td>\n",
       "      <td>34</td>\n",
       "      <td>32</td>\n",
       "      <td>13</td>\n",
       "      <td>0.165049</td>\n",
       "      <td>4</td>\n",
       "      <td>0.019417</td>\n",
       "      <td>5.088235</td>\n",
       "      <td>4</td>\n",
       "      <td>0</td>\n",
       "      <td>WRB RB VBZ JJ IN PRP VBD IN NNP NNP IN DT JJ J...</td>\n",
       "    </tr>\n",
       "    <tr>\n",
       "      <th>4</th>\n",
       "      <td>id12958</td>\n",
       "      <td>Finding nothing else, not even gold, the Super...</td>\n",
       "      <td>HPL</td>\n",
       "      <td>174</td>\n",
       "      <td>27</td>\n",
       "      <td>25</td>\n",
       "      <td>11</td>\n",
       "      <td>0.155172</td>\n",
       "      <td>4</td>\n",
       "      <td>0.022989</td>\n",
       "      <td>5.481481</td>\n",
       "      <td>2</td>\n",
       "      <td>0</td>\n",
       "      <td>VBG NN RB , RB RB NN , DT NNP VBD PRP$ NNS : C...</td>\n",
       "    </tr>\n",
       "  </tbody>\n",
       "</table>\n",
       "</div>"
      ],
      "text/plain": [
       "        id                                               text author  \\\n",
       "0  id26305  This process, however, afforded me no means of...    EAP   \n",
       "1  id17569  It never once occurred to me that the fumbling...    HPL   \n",
       "2  id11008  In his left hand was a gold snuff box, from wh...    EAP   \n",
       "3  id27763  How lovely is spring As we looked from Windsor...    MWS   \n",
       "4  id12958  Finding nothing else, not even gold, the Super...    HPL   \n",
       "\n",
       "   n_characters  n_words  n_unique_words  n_stopwords  word_density  \\\n",
       "0           231       41              35           19      0.177489   \n",
       "1            71       14              14            8      0.197183   \n",
       "2           200       36              32           16      0.180000   \n",
       "3           206       34              32           13      0.165049   \n",
       "4           174       27              25           11      0.155172   \n",
       "\n",
       "   punctuation_count  punctuation_density  avg_len_words  num_upper  \\\n",
       "0                  7             0.030303       4.658537          3   \n",
       "1                  1             0.014085       4.142857          1   \n",
       "2                  5             0.025000       4.583333          1   \n",
       "3                  4             0.019417       5.088235          4   \n",
       "4                  4             0.022989       5.481481          2   \n",
       "\n",
       "   num_capital                                           pos_tags  \n",
       "0            2  DT NN , RB , VBD PRP DT NNS IN VBG DT NNS IN P...  \n",
       "1            0     PRP RB RB VBD TO PRP IN DT NN MD VB DT JJ NN .  \n",
       "2            0  IN PRP$ JJ NN VBD DT JJ NN NN , IN WDT , IN PR...  \n",
       "3            0  WRB RB VBZ JJ IN PRP VBD IN NNP NNP IN DT JJ J...  \n",
       "4            0  VBG NN RB , RB RB NN , DT NNP VBD PRP$ NNS : C...  "
      ]
     },
     "execution_count": 5,
     "metadata": {},
     "output_type": "execute_result"
    }
   ],
   "source": [
    "def map_pos(text):\n",
    "    ## Create a dictionary with key = word and value = pos\n",
    "    d = dict(nltk.pos_tag(nltk.word_tokenize(text)))\n",
    "    ## Tokenize\n",
    "    tokens = nltk.word_tokenize(text)\n",
    "    ## Map tokens to POS\n",
    "    pos_raw = map(lambda x: d[x], tokens)\n",
    "    ## Join tokens\n",
    "    pos_text = \" \".join(pos_raw)\n",
    "    \n",
    "    return pos_text\n",
    "\n",
    "## Substitute words with part of speech tags\n",
    "train[\"pos_tags\"] = train.text.apply(map_pos)\n",
    "train.head()"
   ]
  },
  {
   "cell_type": "markdown",
   "metadata": {},
   "source": [
    "Below I change the data type of column author from text to category (category is more efficient). In addition, to avoid StandardScaler's warnings, I tranform integers into floats."
   ]
  },
  {
   "cell_type": "code",
   "execution_count": 6,
   "metadata": {
    "inputHidden": false,
    "outputHidden": false
   },
   "outputs": [],
   "source": [
    "## author column to category type\n",
    "train.author = train.author.astype(\"category\")\n",
    "X = train.drop([\"id\", \"author\"], axis=\"columns\")\n",
    "y = train.author\n",
    "\n",
    "## Transform integers to floats in order to avoid StandardScaler's warnings\n",
    "for col in X.select_dtypes(include=np.int64).columns:\n",
    "    X[col] = X[col].astype(np.float64)\n",
    "    \n",
    "## Train Validation Split\n",
    "X_train, X_valid, y_train, y_valid = train_test_split(X,y)"
   ]
  },
  {
   "cell_type": "markdown",
   "metadata": {},
   "source": [
    "## Build $X$\n",
    "\n",
    "To build the feature matrix I use pipelines and FunctionTransformers. I abused dimensionality reduction techniques to keep the model light. "
   ]
  },
  {
   "cell_type": "code",
   "execution_count": 7,
   "metadata": {},
   "outputs": [],
   "source": [
    "## Function Transformers - No Lambdas HERE!!!\n",
    "get_pos = FunctionTransformer(get_pos_tags_data, validate=False)\n",
    "get_numeric = FunctionTransformer(get_num_columns, validate=False)\n",
    "get_txt = FunctionTransformer(get_text_data, validate=False)\n",
    "\n",
    "## Numerical Features\n",
    "numeric = make_pipeline(get_numeric, StandardScaler())\n",
    "\n",
    "## Word Counts and TSVD\n",
    "word_counts_tsvd = make_pipeline(get_txt, CountVectorizer(stop_words=\"english\", ngram_range=(1,3)), TruncatedSVD(n_components=20))\n",
    "\n",
    "## Word Counts and NMF\n",
    "word_counts_nmf = make_pipeline(get_txt, CountVectorizer(stop_words=\"english\", ngram_range=(1,3)), NMF(n_components=20))\n",
    "\n",
    "## Word Frequencies and TSVD\n",
    "word_freq_tsvd = make_pipeline(get_txt, TfidfVectorizer(stop_words=\"english\", ngram_range=(1,3)), TruncatedSVD(n_components=20))\n",
    "\n",
    "## Character Frequencies and TSVD\n",
    "char_freq_tsvd = make_pipeline(get_txt, TfidfVectorizer(analyzer=\"char\", ngram_range=(1,5)), TruncatedSVD(n_components=20))\n",
    "\n",
    "## Parts of Speech Counts and TSVD\n",
    "pos_counts_tsvd = make_pipeline(get_pos, CountVectorizer(stop_words=\"english\", ngram_range=(1,3)), TruncatedSVD(n_components=20))\n",
    "\n",
    "## Parts of Speech Counts and NMF\n",
    "pos_counts_nmf = make_pipeline(get_pos, CountVectorizer(ngram_range=(1,3)), NMF(n_components=20))\n",
    "\n",
    "## Parts of Speech Frequencies and TSVD\n",
    "pos_freq_tsvd = make_pipeline(get_pos, TfidfVectorizer(stop_words=\"english\", ngram_range=(1,3)), TruncatedSVD(n_components=20))\n",
    "\n",
    "## Feature Union\n",
    "\n",
    "union = FeatureUnion([(\"numeric\", numeric),\n",
    "                      (\"word_counts_tsvd\", word_counts_tsvd),\n",
    "                      (\"word_counts_nmf\", word_counts_nmf),\n",
    "                      (\"word_freq_tsvd\", word_freq_tsvd),\n",
    "                      (\"char_freq_tsvd\", char_freq_tsvd),\n",
    "                      (\"pos_counts_tsvd\", pos_counts_tsvd),\n",
    "                      (\"pos_counts_nmf\", pos_counts_nmf),\n",
    "                      (\"pos_freq_tsvd\", pos_freq_tsvd)])\n",
    "\n",
    "## Apply Transformations\n",
    "X_train = union.fit_transform(X_train)\n",
    "X_valid = union.transform(X_valid)"
   ]
  },
  {
   "cell_type": "markdown",
   "metadata": {},
   "source": [
    "## Check Point 1"
   ]
  },
  {
   "cell_type": "markdown",
   "metadata": {},
   "source": [
    "I can start from here and load the data that have already been processed"
   ]
  },
  {
   "cell_type": "code",
   "execution_count": 8,
   "metadata": {},
   "outputs": [],
   "source": [
    "## Save X and y to create a checkpoint.\n",
    "pickle.dump(X, open(\"X.pkl\", \"wb\"))\n",
    "pickle.dump(y, open(\"y.pkl\", \"wb\"))\n",
    "pickle.dump(X_train, open(\"X_train.pkl\",\"wb\"))\n",
    "pickle.dump(y_train, open(\"y_train.pkl\",\"wb\"))\n",
    "pickle.dump(X_valid, open(\"X_valid.pkl\",\"wb\"))\n",
    "pickle.dump(y_valid, open(\"y_valid.pkl\",\"wb\"))"
   ]
  },
  {
   "cell_type": "code",
   "execution_count": 2,
   "metadata": {},
   "outputs": [],
   "source": [
    "## Load X and y\n",
    "X = pickle.load(open(\"X.pkl\", \"rb\"))\n",
    "y = pickle.load(open(\"y.pkl\", \"rb\"))\n",
    "X_train = pickle.load(open(\"X_train.pkl\", \"rb\"))\n",
    "y_train = pickle.load(open(\"y_train.pkl\", \"rb\"))\n",
    "X_valid = pickle.load(open(\"X_valid.pkl\", \"rb\"))\n",
    "y_valid = pickle.load(open(\"y_valid.pkl\", \"rb\"))"
   ]
  },
  {
   "cell_type": "markdown",
   "metadata": {},
   "source": [
    "## Stacking Strategy\n",
    "\n",
    "I want to train different algorithms on different sets of features and then apply stacking to appreciate the performance improvement. You get the most out of stacking when you use different algos trained on different features, training sets or hyperparameters. I do not pick features manually but I use automatic feature selection steps in my pipelines. I used dimensionality reduction techniques to build a light model."
   ]
  },
  {
   "cell_type": "markdown",
   "metadata": {},
   "source": [
    "### Base Learner 1 - Gaussian Naive Bayes\n",
    "\n",
    "Naive Bayes is a very common choice when the aim is text classification. It is usually very effective. Here I use a Sequential Feature Selector (SFS) to select the best 75% of features. SFS is a wrapper method for feature selection. Wrapper methods are those which marry the feature selection process to the type of model being built, evaluating feature subsets in order to detect the model performance between features, and subsequently select the best performing subset. In other words, instead of existing as an independent process taking place prior to model building, wrapper methods attempt to optimize feature selection process for a given machine learning algorithm in tandem with this algorithm."
   ]
  },
  {
   "cell_type": "code",
   "execution_count": 10,
   "metadata": {},
   "outputs": [
    {
     "name": "stdout",
     "output_type": "stream",
     "text": [
      "shape of X:  (14684, 150)\n",
      "SFS max n. of features:  105\n"
     ]
    }
   ],
   "source": [
    "## Print the shape of our X matrix\n",
    "print(\"shape of X: \", X_train.shape)\n",
    "## Print the number of features that automatic feature selection should use\n",
    "n_features = int(X_train.shape[1] * .7)\n",
    "print(\"SFS max n. of features: \", n_features)"
   ]
  },
  {
   "cell_type": "code",
   "execution_count": 11,
   "metadata": {},
   "outputs": [
    {
     "name": "stderr",
     "output_type": "stream",
     "text": [
      "[Parallel(n_jobs=-1)]: Using backend LokyBackend with 16 concurrent workers.\n",
      "[Parallel(n_jobs=-1)]: Done  18 tasks      | elapsed:    1.6s\n",
      "[Parallel(n_jobs=-1)]: Done 150 out of 150 | elapsed:    3.3s finished\n",
      "Features: 1/105[Parallel(n_jobs=-1)]: Using backend LokyBackend with 16 concurrent workers.\n",
      "[Parallel(n_jobs=-1)]: Done  18 tasks      | elapsed:    0.5s\n",
      "[Parallel(n_jobs=-1)]: Done 149 out of 149 | elapsed:    2.1s finished\n",
      "Features: 2/105[Parallel(n_jobs=-1)]: Using backend LokyBackend with 16 concurrent workers.\n",
      "[Parallel(n_jobs=-1)]: Done  18 tasks      | elapsed:    0.4s\n",
      "[Parallel(n_jobs=-1)]: Done 148 out of 148 | elapsed:    2.1s finished\n",
      "Features: 3/105[Parallel(n_jobs=-1)]: Using backend LokyBackend with 16 concurrent workers.\n",
      "[Parallel(n_jobs=-1)]: Done  18 tasks      | elapsed:    0.4s\n",
      "[Parallel(n_jobs=-1)]: Done 147 out of 147 | elapsed:    2.2s finished\n",
      "Features: 4/105[Parallel(n_jobs=-1)]: Using backend LokyBackend with 16 concurrent workers.\n",
      "[Parallel(n_jobs=-1)]: Done  18 tasks      | elapsed:    0.5s\n",
      "[Parallel(n_jobs=-1)]: Done 146 out of 146 | elapsed:    2.2s finished\n",
      "Features: 5/105[Parallel(n_jobs=-1)]: Using backend LokyBackend with 16 concurrent workers.\n",
      "[Parallel(n_jobs=-1)]: Done  18 tasks      | elapsed:    0.5s\n",
      "[Parallel(n_jobs=-1)]: Done 145 out of 145 | elapsed:    2.2s finished\n",
      "Features: 6/105[Parallel(n_jobs=-1)]: Using backend LokyBackend with 16 concurrent workers.\n",
      "[Parallel(n_jobs=-1)]: Done  18 tasks      | elapsed:    0.5s\n",
      "[Parallel(n_jobs=-1)]: Done 144 out of 144 | elapsed:    2.1s finished\n",
      "Features: 7/105[Parallel(n_jobs=-1)]: Using backend LokyBackend with 16 concurrent workers.\n",
      "[Parallel(n_jobs=-1)]: Done  18 tasks      | elapsed:    0.5s\n",
      "[Parallel(n_jobs=-1)]: Done 143 out of 143 | elapsed:    2.2s finished\n",
      "Features: 8/105[Parallel(n_jobs=-1)]: Using backend LokyBackend with 16 concurrent workers.\n",
      "[Parallel(n_jobs=-1)]: Done  18 tasks      | elapsed:    0.5s\n",
      "[Parallel(n_jobs=-1)]: Done 142 out of 142 | elapsed:    2.3s finished\n",
      "Features: 9/105[Parallel(n_jobs=-1)]: Using backend LokyBackend with 16 concurrent workers.\n",
      "[Parallel(n_jobs=-1)]: Done  18 tasks      | elapsed:    0.5s\n",
      "[Parallel(n_jobs=-1)]: Done 110 out of 141 | elapsed:    1.9s remaining:    0.5s\n",
      "[Parallel(n_jobs=-1)]: Done 141 out of 141 | elapsed:    2.3s finished\n",
      "Features: 10/105[Parallel(n_jobs=-1)]: Using backend LokyBackend with 16 concurrent workers.\n",
      "[Parallel(n_jobs=-1)]: Done  18 tasks      | elapsed:    0.5s\n",
      "[Parallel(n_jobs=-1)]: Done 140 out of 140 | elapsed:    2.2s finished\n",
      "Features: 11/105[Parallel(n_jobs=-1)]: Using backend LokyBackend with 16 concurrent workers.\n",
      "[Parallel(n_jobs=-1)]: Done  18 tasks      | elapsed:    0.5s\n",
      "[Parallel(n_jobs=-1)]: Done 139 out of 139 | elapsed:    2.2s finished\n",
      "Features: 12/105[Parallel(n_jobs=-1)]: Using backend LokyBackend with 16 concurrent workers.\n",
      "[Parallel(n_jobs=-1)]: Done  18 tasks      | elapsed:    0.5s\n",
      "[Parallel(n_jobs=-1)]: Done 138 out of 138 | elapsed:    2.2s finished\n",
      "Features: 13/105[Parallel(n_jobs=-1)]: Using backend LokyBackend with 16 concurrent workers.\n",
      "[Parallel(n_jobs=-1)]: Done  18 tasks      | elapsed:    0.5s\n",
      "[Parallel(n_jobs=-1)]: Done 137 out of 137 | elapsed:    2.3s finished\n",
      "Features: 14/105[Parallel(n_jobs=-1)]: Using backend LokyBackend with 16 concurrent workers.\n",
      "[Parallel(n_jobs=-1)]: Done  18 tasks      | elapsed:    0.5s\n",
      "[Parallel(n_jobs=-1)]: Done 136 out of 136 | elapsed:    2.3s finished\n",
      "Features: 15/105[Parallel(n_jobs=-1)]: Using backend LokyBackend with 16 concurrent workers.\n",
      "[Parallel(n_jobs=-1)]: Done  18 tasks      | elapsed:    0.5s\n",
      "[Parallel(n_jobs=-1)]: Done 135 out of 135 | elapsed:    2.3s finished\n",
      "Features: 16/105[Parallel(n_jobs=-1)]: Using backend LokyBackend with 16 concurrent workers.\n",
      "[Parallel(n_jobs=-1)]: Done  18 tasks      | elapsed:    0.5s\n",
      "[Parallel(n_jobs=-1)]: Done 134 out of 134 | elapsed:    2.3s finished\n",
      "Features: 17/105[Parallel(n_jobs=-1)]: Using backend LokyBackend with 16 concurrent workers.\n",
      "[Parallel(n_jobs=-1)]: Done  18 tasks      | elapsed:    0.5s\n",
      "[Parallel(n_jobs=-1)]: Done 133 out of 133 | elapsed:    2.3s finished\n",
      "Features: 18/105[Parallel(n_jobs=-1)]: Using backend LokyBackend with 16 concurrent workers.\n",
      "[Parallel(n_jobs=-1)]: Done  18 tasks      | elapsed:    0.5s\n",
      "[Parallel(n_jobs=-1)]: Done 132 out of 132 | elapsed:    2.3s finished\n",
      "Features: 19/105[Parallel(n_jobs=-1)]: Using backend LokyBackend with 16 concurrent workers.\n",
      "[Parallel(n_jobs=-1)]: Done  18 tasks      | elapsed:    0.5s\n",
      "[Parallel(n_jobs=-1)]: Done 131 out of 131 | elapsed:    2.3s finished\n",
      "Features: 20/105[Parallel(n_jobs=-1)]: Using backend LokyBackend with 16 concurrent workers.\n",
      "[Parallel(n_jobs=-1)]: Done  18 tasks      | elapsed:    0.5s\n",
      "[Parallel(n_jobs=-1)]: Done 130 out of 130 | elapsed:    2.4s finished\n",
      "Features: 21/105[Parallel(n_jobs=-1)]: Using backend LokyBackend with 16 concurrent workers.\n",
      "[Parallel(n_jobs=-1)]: Done  18 tasks      | elapsed:    0.5s\n",
      "[Parallel(n_jobs=-1)]: Done 129 out of 129 | elapsed:    2.3s finished\n",
      "Features: 22/105[Parallel(n_jobs=-1)]: Using backend LokyBackend with 16 concurrent workers.\n",
      "[Parallel(n_jobs=-1)]: Done  18 tasks      | elapsed:    0.5s\n",
      "[Parallel(n_jobs=-1)]: Done 128 out of 128 | elapsed:    2.3s finished\n",
      "Features: 23/105[Parallel(n_jobs=-1)]: Using backend LokyBackend with 16 concurrent workers.\n",
      "[Parallel(n_jobs=-1)]: Done  18 tasks      | elapsed:    0.5s\n",
      "[Parallel(n_jobs=-1)]: Done 127 out of 127 | elapsed:    2.4s finished\n",
      "Features: 24/105[Parallel(n_jobs=-1)]: Using backend LokyBackend with 16 concurrent workers.\n",
      "[Parallel(n_jobs=-1)]: Done  18 tasks      | elapsed:    0.6s\n",
      "[Parallel(n_jobs=-1)]: Done 126 out of 126 | elapsed:    2.4s finished\n",
      "Features: 25/105[Parallel(n_jobs=-1)]: Using backend LokyBackend with 16 concurrent workers.\n",
      "[Parallel(n_jobs=-1)]: Done  18 tasks      | elapsed:    0.6s\n",
      "[Parallel(n_jobs=-1)]: Done 125 out of 125 | elapsed:    2.4s finished\n",
      "Features: 26/105[Parallel(n_jobs=-1)]: Using backend LokyBackend with 16 concurrent workers.\n",
      "[Parallel(n_jobs=-1)]: Done  18 tasks      | elapsed:    0.6s\n",
      "[Parallel(n_jobs=-1)]: Done 124 out of 124 | elapsed:    2.4s finished\n",
      "Features: 27/105[Parallel(n_jobs=-1)]: Using backend LokyBackend with 16 concurrent workers.\n",
      "[Parallel(n_jobs=-1)]: Done  18 tasks      | elapsed:    0.6s\n",
      "[Parallel(n_jobs=-1)]: Done 123 out of 123 | elapsed:    2.4s finished\n",
      "Features: 28/105[Parallel(n_jobs=-1)]: Using backend LokyBackend with 16 concurrent workers.\n",
      "[Parallel(n_jobs=-1)]: Done  18 tasks      | elapsed:    0.6s\n",
      "[Parallel(n_jobs=-1)]: Done 122 out of 122 | elapsed:    2.4s finished\n",
      "Features: 29/105[Parallel(n_jobs=-1)]: Using backend LokyBackend with 16 concurrent workers.\n",
      "[Parallel(n_jobs=-1)]: Done  18 tasks      | elapsed:    0.6s\n",
      "[Parallel(n_jobs=-1)]: Done 121 out of 121 | elapsed:    2.4s finished\n",
      "Features: 30/105[Parallel(n_jobs=-1)]: Using backend LokyBackend with 16 concurrent workers.\n",
      "[Parallel(n_jobs=-1)]: Done  18 tasks      | elapsed:    0.6s\n",
      "[Parallel(n_jobs=-1)]: Done 120 out of 120 | elapsed:    2.4s finished\n",
      "Features: 31/105[Parallel(n_jobs=-1)]: Using backend LokyBackend with 16 concurrent workers.\n",
      "[Parallel(n_jobs=-1)]: Done  18 tasks      | elapsed:    0.6s\n",
      "[Parallel(n_jobs=-1)]: Done 119 out of 119 | elapsed:    2.5s finished\n",
      "Features: 32/105[Parallel(n_jobs=-1)]: Using backend LokyBackend with 16 concurrent workers.\n",
      "[Parallel(n_jobs=-1)]: Done  18 tasks      | elapsed:    0.6s\n",
      "[Parallel(n_jobs=-1)]: Done 118 out of 118 | elapsed:    2.4s finished\n",
      "Features: 33/105[Parallel(n_jobs=-1)]: Using backend LokyBackend with 16 concurrent workers.\n",
      "[Parallel(n_jobs=-1)]: Done  18 tasks      | elapsed:    0.6s\n",
      "[Parallel(n_jobs=-1)]: Done 117 out of 117 | elapsed:    2.4s finished\n",
      "Features: 34/105[Parallel(n_jobs=-1)]: Using backend LokyBackend with 16 concurrent workers.\n",
      "[Parallel(n_jobs=-1)]: Done  18 tasks      | elapsed:    0.6s\n",
      "[Parallel(n_jobs=-1)]: Done 116 out of 116 | elapsed:    2.4s finished\n",
      "Features: 35/105[Parallel(n_jobs=-1)]: Using backend LokyBackend with 16 concurrent workers.\n",
      "[Parallel(n_jobs=-1)]: Done  18 tasks      | elapsed:    0.6s\n",
      "[Parallel(n_jobs=-1)]: Done 115 out of 115 | elapsed:    2.4s finished\n",
      "Features: 36/105[Parallel(n_jobs=-1)]: Using backend LokyBackend with 16 concurrent workers.\n",
      "[Parallel(n_jobs=-1)]: Done  18 tasks      | elapsed:    0.6s\n",
      "[Parallel(n_jobs=-1)]: Done 114 out of 114 | elapsed:    2.5s finished\n",
      "Features: 37/105[Parallel(n_jobs=-1)]: Using backend LokyBackend with 16 concurrent workers.\n",
      "[Parallel(n_jobs=-1)]: Done  18 tasks      | elapsed:    0.6s\n",
      "[Parallel(n_jobs=-1)]: Done 113 out of 113 | elapsed:    2.4s finished\n",
      "Features: 38/105[Parallel(n_jobs=-1)]: Using backend LokyBackend with 16 concurrent workers.\n",
      "[Parallel(n_jobs=-1)]: Done  18 tasks      | elapsed:    0.6s\n",
      "[Parallel(n_jobs=-1)]: Done 112 out of 112 | elapsed:    2.5s finished\n",
      "Features: 39/105[Parallel(n_jobs=-1)]: Using backend LokyBackend with 16 concurrent workers.\n",
      "[Parallel(n_jobs=-1)]: Done  18 tasks      | elapsed:    0.7s\n",
      "[Parallel(n_jobs=-1)]: Done 111 out of 111 | elapsed:    2.4s finished\n",
      "Features: 40/105[Parallel(n_jobs=-1)]: Using backend LokyBackend with 16 concurrent workers.\n",
      "[Parallel(n_jobs=-1)]: Done  18 tasks      | elapsed:    0.6s\n",
      "[Parallel(n_jobs=-1)]: Done 110 out of 110 | elapsed:    2.4s finished\n",
      "Features: 41/105[Parallel(n_jobs=-1)]: Using backend LokyBackend with 16 concurrent workers.\n",
      "[Parallel(n_jobs=-1)]: Done  18 tasks      | elapsed:    0.7s\n",
      "[Parallel(n_jobs=-1)]: Done 109 out of 109 | elapsed:    2.4s finished\n",
      "Features: 42/105[Parallel(n_jobs=-1)]: Using backend LokyBackend with 16 concurrent workers.\n",
      "[Parallel(n_jobs=-1)]: Done  18 tasks      | elapsed:    0.6s\n",
      "[Parallel(n_jobs=-1)]: Done 108 out of 108 | elapsed:    2.4s finished\n",
      "Features: 43/105[Parallel(n_jobs=-1)]: Using backend LokyBackend with 16 concurrent workers.\n",
      "[Parallel(n_jobs=-1)]: Done  18 tasks      | elapsed:    0.6s\n",
      "[Parallel(n_jobs=-1)]: Done 107 out of 107 | elapsed:    2.4s finished\n",
      "Features: 44/105[Parallel(n_jobs=-1)]: Using backend LokyBackend with 16 concurrent workers.\n",
      "[Parallel(n_jobs=-1)]: Done  18 tasks      | elapsed:    0.7s\n",
      "[Parallel(n_jobs=-1)]: Done 106 out of 106 | elapsed:    2.4s finished\n",
      "Features: 45/105[Parallel(n_jobs=-1)]: Using backend LokyBackend with 16 concurrent workers.\n",
      "[Parallel(n_jobs=-1)]: Done  18 tasks      | elapsed:    0.7s\n",
      "[Parallel(n_jobs=-1)]: Done 105 out of 105 | elapsed:    2.4s finished\n",
      "Features: 46/105[Parallel(n_jobs=-1)]: Using backend LokyBackend with 16 concurrent workers.\n",
      "[Parallel(n_jobs=-1)]: Done  18 tasks      | elapsed:    0.6s\n",
      "[Parallel(n_jobs=-1)]: Done 104 out of 104 | elapsed:    2.4s finished\n",
      "Features: 47/105[Parallel(n_jobs=-1)]: Using backend LokyBackend with 16 concurrent workers.\n",
      "[Parallel(n_jobs=-1)]: Done  18 tasks      | elapsed:    0.7s\n",
      "[Parallel(n_jobs=-1)]: Done 103 out of 103 | elapsed:    2.4s finished\n",
      "Features: 48/105[Parallel(n_jobs=-1)]: Using backend LokyBackend with 16 concurrent workers.\n",
      "[Parallel(n_jobs=-1)]: Done  18 tasks      | elapsed:    0.7s\n",
      "[Parallel(n_jobs=-1)]: Done 102 out of 102 | elapsed:    2.4s finished\n",
      "Features: 49/105[Parallel(n_jobs=-1)]: Using backend LokyBackend with 16 concurrent workers.\n",
      "[Parallel(n_jobs=-1)]: Done  18 tasks      | elapsed:    0.7s\n",
      "[Parallel(n_jobs=-1)]: Done 101 out of 101 | elapsed:    2.5s finished\n",
      "Features: 50/105[Parallel(n_jobs=-1)]: Using backend LokyBackend with 16 concurrent workers.\n",
      "[Parallel(n_jobs=-1)]: Done  18 tasks      | elapsed:    0.7s\n",
      "[Parallel(n_jobs=-1)]: Done 100 out of 100 | elapsed:    2.4s finished\n",
      "Features: 51/105[Parallel(n_jobs=-1)]: Using backend LokyBackend with 16 concurrent workers.\n",
      "[Parallel(n_jobs=-1)]: Done  18 tasks      | elapsed:    0.7s\n",
      "[Parallel(n_jobs=-1)]: Done  99 out of  99 | elapsed:    2.4s finished\n",
      "Features: 52/105[Parallel(n_jobs=-1)]: Using backend LokyBackend with 16 concurrent workers.\n",
      "[Parallel(n_jobs=-1)]: Done  18 tasks      | elapsed:    0.7s\n",
      "[Parallel(n_jobs=-1)]: Done  98 out of  98 | elapsed:    2.4s finished\n",
      "Features: 53/105[Parallel(n_jobs=-1)]: Using backend LokyBackend with 16 concurrent workers.\n",
      "[Parallel(n_jobs=-1)]: Done  18 tasks      | elapsed:    0.7s\n",
      "[Parallel(n_jobs=-1)]: Done  97 out of  97 | elapsed:    2.5s finished\n",
      "Features: 54/105[Parallel(n_jobs=-1)]: Using backend LokyBackend with 16 concurrent workers.\n",
      "[Parallel(n_jobs=-1)]: Done  18 tasks      | elapsed:    0.7s\n",
      "[Parallel(n_jobs=-1)]: Done  96 out of  96 | elapsed:    2.5s finished\n",
      "Features: 55/105[Parallel(n_jobs=-1)]: Using backend LokyBackend with 16 concurrent workers.\n",
      "[Parallel(n_jobs=-1)]: Done  18 tasks      | elapsed:    0.7s\n",
      "[Parallel(n_jobs=-1)]: Done  95 out of  95 | elapsed:    2.5s finished\n",
      "Features: 56/105[Parallel(n_jobs=-1)]: Using backend LokyBackend with 16 concurrent workers.\n",
      "[Parallel(n_jobs=-1)]: Done  18 tasks      | elapsed:    0.7s\n",
      "[Parallel(n_jobs=-1)]: Done  94 out of  94 | elapsed:    2.4s finished\n",
      "Features: 57/105[Parallel(n_jobs=-1)]: Using backend LokyBackend with 16 concurrent workers.\n",
      "[Parallel(n_jobs=-1)]: Done  18 tasks      | elapsed:    0.7s\n",
      "[Parallel(n_jobs=-1)]: Done  93 out of  93 | elapsed:    2.4s finished\n",
      "Features: 58/105[Parallel(n_jobs=-1)]: Using backend LokyBackend with 16 concurrent workers.\n",
      "[Parallel(n_jobs=-1)]: Done  18 tasks      | elapsed:    0.7s\n",
      "[Parallel(n_jobs=-1)]: Done  92 out of  92 | elapsed:    2.4s finished\n",
      "Features: 59/105[Parallel(n_jobs=-1)]: Using backend LokyBackend with 16 concurrent workers.\n",
      "[Parallel(n_jobs=-1)]: Done  18 tasks      | elapsed:    0.7s\n",
      "[Parallel(n_jobs=-1)]: Done  91 out of  91 | elapsed:    2.5s finished\n",
      "Features: 60/105[Parallel(n_jobs=-1)]: Using backend LokyBackend with 16 concurrent workers.\n",
      "[Parallel(n_jobs=-1)]: Done  18 tasks      | elapsed:    0.7s\n",
      "[Parallel(n_jobs=-1)]: Done  90 out of  90 | elapsed:    2.4s finished\n",
      "Features: 61/105[Parallel(n_jobs=-1)]: Using backend LokyBackend with 16 concurrent workers.\n",
      "[Parallel(n_jobs=-1)]: Done  18 tasks      | elapsed:    0.7s\n",
      "[Parallel(n_jobs=-1)]: Done  89 out of  89 | elapsed:    2.4s finished\n",
      "Features: 62/105[Parallel(n_jobs=-1)]: Using backend LokyBackend with 16 concurrent workers.\n",
      "[Parallel(n_jobs=-1)]: Done  18 tasks      | elapsed:    0.8s\n",
      "[Parallel(n_jobs=-1)]: Done  88 out of  88 | elapsed:    2.4s finished\n",
      "Features: 63/105[Parallel(n_jobs=-1)]: Using backend LokyBackend with 16 concurrent workers.\n",
      "[Parallel(n_jobs=-1)]: Done  18 tasks      | elapsed:    0.8s\n",
      "[Parallel(n_jobs=-1)]: Done  87 out of  87 | elapsed:    2.5s finished\n",
      "Features: 64/105[Parallel(n_jobs=-1)]: Using backend LokyBackend with 16 concurrent workers.\n",
      "[Parallel(n_jobs=-1)]: Done  18 tasks      | elapsed:    0.7s\n",
      "[Parallel(n_jobs=-1)]: Done  86 out of  86 | elapsed:    2.4s finished\n",
      "Features: 65/105[Parallel(n_jobs=-1)]: Using backend LokyBackend with 16 concurrent workers.\n",
      "[Parallel(n_jobs=-1)]: Done  18 tasks      | elapsed:    0.8s\n",
      "[Parallel(n_jobs=-1)]: Done  85 out of  85 | elapsed:    2.5s finished\n",
      "Features: 66/105[Parallel(n_jobs=-1)]: Using backend LokyBackend with 16 concurrent workers.\n",
      "[Parallel(n_jobs=-1)]: Done  18 tasks      | elapsed:    0.8s\n",
      "[Parallel(n_jobs=-1)]: Done  84 out of  84 | elapsed:    2.4s finished\n",
      "Features: 67/105[Parallel(n_jobs=-1)]: Using backend LokyBackend with 16 concurrent workers.\n",
      "[Parallel(n_jobs=-1)]: Done  18 tasks      | elapsed:    0.8s\n",
      "[Parallel(n_jobs=-1)]: Done  83 out of  83 | elapsed:    2.4s finished\n",
      "Features: 68/105[Parallel(n_jobs=-1)]: Using backend LokyBackend with 16 concurrent workers.\n",
      "[Parallel(n_jobs=-1)]: Done  18 tasks      | elapsed:    0.8s\n",
      "[Parallel(n_jobs=-1)]: Done  82 out of  82 | elapsed:    2.4s finished\n",
      "Features: 69/105[Parallel(n_jobs=-1)]: Using backend LokyBackend with 16 concurrent workers.\n",
      "[Parallel(n_jobs=-1)]: Done  18 tasks      | elapsed:    0.8s\n",
      "[Parallel(n_jobs=-1)]: Done  81 out of  81 | elapsed:    2.4s finished\n",
      "Features: 70/105[Parallel(n_jobs=-1)]: Using backend LokyBackend with 16 concurrent workers.\n",
      "[Parallel(n_jobs=-1)]: Done  18 tasks      | elapsed:    0.8s\n",
      "[Parallel(n_jobs=-1)]: Done  80 out of  80 | elapsed:    2.4s finished\n",
      "Features: 71/105[Parallel(n_jobs=-1)]: Using backend LokyBackend with 16 concurrent workers.\n",
      "[Parallel(n_jobs=-1)]: Done  18 tasks      | elapsed:    0.8s\n",
      "[Parallel(n_jobs=-1)]: Done  79 out of  79 | elapsed:    2.4s finished\n",
      "Features: 72/105[Parallel(n_jobs=-1)]: Using backend LokyBackend with 16 concurrent workers.\n",
      "[Parallel(n_jobs=-1)]: Done  18 tasks      | elapsed:    0.8s\n",
      "[Parallel(n_jobs=-1)]: Done  78 out of  78 | elapsed:    2.4s finished\n",
      "Features: 73/105[Parallel(n_jobs=-1)]: Using backend LokyBackend with 16 concurrent workers.\n",
      "[Parallel(n_jobs=-1)]: Done  18 tasks      | elapsed:    0.8s\n",
      "[Parallel(n_jobs=-1)]: Done  77 out of  77 | elapsed:    2.3s finished\n",
      "Features: 74/105[Parallel(n_jobs=-1)]: Using backend LokyBackend with 16 concurrent workers.\n",
      "[Parallel(n_jobs=-1)]: Done  18 tasks      | elapsed:    0.8s\n",
      "[Parallel(n_jobs=-1)]: Done  76 out of  76 | elapsed:    2.3s finished\n",
      "Features: 75/105[Parallel(n_jobs=-1)]: Using backend LokyBackend with 16 concurrent workers.\n",
      "[Parallel(n_jobs=-1)]: Done  18 tasks      | elapsed:    0.8s\n",
      "[Parallel(n_jobs=-1)]: Done  75 out of  75 | elapsed:    2.4s finished\n",
      "Features: 76/105[Parallel(n_jobs=-1)]: Using backend LokyBackend with 16 concurrent workers.\n",
      "[Parallel(n_jobs=-1)]: Done  18 tasks      | elapsed:    0.8s\n",
      "[Parallel(n_jobs=-1)]: Done  74 out of  74 | elapsed:    2.3s finished\n",
      "Features: 77/105[Parallel(n_jobs=-1)]: Using backend LokyBackend with 16 concurrent workers.\n",
      "[Parallel(n_jobs=-1)]: Done  18 tasks      | elapsed:    0.8s\n",
      "[Parallel(n_jobs=-1)]: Done  73 out of  73 | elapsed:    2.3s finished\n",
      "Features: 78/105[Parallel(n_jobs=-1)]: Using backend LokyBackend with 16 concurrent workers.\n",
      "[Parallel(n_jobs=-1)]: Done  18 tasks      | elapsed:    0.9s\n",
      "[Parallel(n_jobs=-1)]: Done  72 out of  72 | elapsed:    2.4s finished\n",
      "Features: 79/105[Parallel(n_jobs=-1)]: Using backend LokyBackend with 16 concurrent workers.\n",
      "[Parallel(n_jobs=-1)]: Done  18 tasks      | elapsed:    0.8s\n",
      "[Parallel(n_jobs=-1)]: Done  71 out of  71 | elapsed:    2.3s finished\n",
      "Features: 80/105[Parallel(n_jobs=-1)]: Using backend LokyBackend with 16 concurrent workers.\n",
      "[Parallel(n_jobs=-1)]: Done  18 tasks      | elapsed:    0.8s\n",
      "[Parallel(n_jobs=-1)]: Done  70 out of  70 | elapsed:    2.3s finished\n",
      "Features: 81/105[Parallel(n_jobs=-1)]: Using backend LokyBackend with 16 concurrent workers.\n",
      "[Parallel(n_jobs=-1)]: Done  18 tasks      | elapsed:    0.9s\n",
      "[Parallel(n_jobs=-1)]: Done  69 out of  69 | elapsed:    2.3s finished\n",
      "Features: 82/105[Parallel(n_jobs=-1)]: Using backend LokyBackend with 16 concurrent workers.\n",
      "[Parallel(n_jobs=-1)]: Done  18 tasks      | elapsed:    0.9s\n",
      "[Parallel(n_jobs=-1)]: Done  68 out of  68 | elapsed:    2.3s finished\n",
      "Features: 83/105[Parallel(n_jobs=-1)]: Using backend LokyBackend with 16 concurrent workers.\n",
      "[Parallel(n_jobs=-1)]: Done  18 tasks      | elapsed:    0.9s\n",
      "[Parallel(n_jobs=-1)]: Done  67 out of  67 | elapsed:    2.4s finished\n",
      "Features: 84/105[Parallel(n_jobs=-1)]: Using backend LokyBackend with 16 concurrent workers.\n",
      "[Parallel(n_jobs=-1)]: Done  18 tasks      | elapsed:    0.9s\n",
      "[Parallel(n_jobs=-1)]: Done  66 out of  66 | elapsed:    2.3s finished\n",
      "Features: 85/105[Parallel(n_jobs=-1)]: Using backend LokyBackend with 16 concurrent workers.\n",
      "[Parallel(n_jobs=-1)]: Done  18 tasks      | elapsed:    0.9s\n",
      "[Parallel(n_jobs=-1)]: Done  65 out of  65 | elapsed:    2.2s finished\n",
      "Features: 86/105[Parallel(n_jobs=-1)]: Using backend LokyBackend with 16 concurrent workers.\n",
      "[Parallel(n_jobs=-1)]: Done  18 tasks      | elapsed:    0.9s\n",
      "[Parallel(n_jobs=-1)]: Done  64 out of  64 | elapsed:    2.2s finished\n",
      "Features: 87/105[Parallel(n_jobs=-1)]: Using backend LokyBackend with 16 concurrent workers.\n",
      "[Parallel(n_jobs=-1)]: Done  18 tasks      | elapsed:    0.9s\n",
      "[Parallel(n_jobs=-1)]: Done  63 out of  63 | elapsed:    2.2s finished\n",
      "Features: 88/105[Parallel(n_jobs=-1)]: Using backend LokyBackend with 16 concurrent workers.\n",
      "[Parallel(n_jobs=-1)]: Done  18 tasks      | elapsed:    0.9s\n",
      "[Parallel(n_jobs=-1)]: Done  62 out of  62 | elapsed:    2.2s finished\n",
      "Features: 89/105[Parallel(n_jobs=-1)]: Using backend LokyBackend with 16 concurrent workers.\n",
      "[Parallel(n_jobs=-1)]: Done  18 tasks      | elapsed:    0.9s\n",
      "[Parallel(n_jobs=-1)]: Done  61 out of  61 | elapsed:    2.2s finished\n",
      "Features: 90/105[Parallel(n_jobs=-1)]: Using backend LokyBackend with 16 concurrent workers.\n",
      "[Parallel(n_jobs=-1)]: Done  18 tasks      | elapsed:    1.0s\n",
      "[Parallel(n_jobs=-1)]: Done  60 out of  60 | elapsed:    2.2s finished\n",
      "Features: 91/105[Parallel(n_jobs=-1)]: Using backend LokyBackend with 16 concurrent workers.\n",
      "[Parallel(n_jobs=-1)]: Done  18 tasks      | elapsed:    0.9s\n",
      "[Parallel(n_jobs=-1)]: Done  59 out of  59 | elapsed:    2.2s finished\n",
      "Features: 92/105[Parallel(n_jobs=-1)]: Using backend LokyBackend with 16 concurrent workers.\n",
      "[Parallel(n_jobs=-1)]: Done  18 tasks      | elapsed:    0.9s\n",
      "[Parallel(n_jobs=-1)]: Done  58 out of  58 | elapsed:    2.1s finished\n",
      "Features: 93/105[Parallel(n_jobs=-1)]: Using backend LokyBackend with 16 concurrent workers.\n",
      "[Parallel(n_jobs=-1)]: Done  18 tasks      | elapsed:    1.0s\n",
      "[Parallel(n_jobs=-1)]: Done  57 out of  57 | elapsed:    2.1s finished\n",
      "Features: 94/105[Parallel(n_jobs=-1)]: Using backend LokyBackend with 16 concurrent workers.\n",
      "[Parallel(n_jobs=-1)]: Done  18 tasks      | elapsed:    0.9s\n",
      "[Parallel(n_jobs=-1)]: Done  56 out of  56 | elapsed:    2.1s finished\n",
      "Features: 95/105[Parallel(n_jobs=-1)]: Using backend LokyBackend with 16 concurrent workers.\n",
      "[Parallel(n_jobs=-1)]: Done  18 tasks      | elapsed:    1.0s\n",
      "[Parallel(n_jobs=-1)]: Done  55 out of  55 | elapsed:    2.1s finished\n",
      "Features: 96/105[Parallel(n_jobs=-1)]: Using backend LokyBackend with 16 concurrent workers.\n",
      "[Parallel(n_jobs=-1)]: Done  18 tasks      | elapsed:    1.0s\n",
      "[Parallel(n_jobs=-1)]: Done  54 out of  54 | elapsed:    2.1s finished\n",
      "Features: 97/105[Parallel(n_jobs=-1)]: Using backend LokyBackend with 16 concurrent workers.\n",
      "[Parallel(n_jobs=-1)]: Done  18 tasks      | elapsed:    0.9s\n",
      "[Parallel(n_jobs=-1)]: Done  53 out of  53 | elapsed:    2.1s finished\n",
      "Features: 98/105[Parallel(n_jobs=-1)]: Using backend LokyBackend with 16 concurrent workers.\n",
      "[Parallel(n_jobs=-1)]: Done  18 tasks      | elapsed:    1.0s\n",
      "[Parallel(n_jobs=-1)]: Done  52 out of  52 | elapsed:    2.0s finished\n",
      "Features: 99/105[Parallel(n_jobs=-1)]: Using backend LokyBackend with 16 concurrent workers.\n",
      "[Parallel(n_jobs=-1)]: Done  18 tasks      | elapsed:    1.0s\n",
      "[Parallel(n_jobs=-1)]: Done  51 out of  51 | elapsed:    2.0s finished\n",
      "Features: 100/105[Parallel(n_jobs=-1)]: Using backend LokyBackend with 16 concurrent workers.\n",
      "[Parallel(n_jobs=-1)]: Done  18 tasks      | elapsed:    1.0s\n",
      "[Parallel(n_jobs=-1)]: Done  50 out of  50 | elapsed:    2.1s finished\n",
      "Features: 101/105[Parallel(n_jobs=-1)]: Using backend LokyBackend with 16 concurrent workers.\n",
      "[Parallel(n_jobs=-1)]: Done  18 tasks      | elapsed:    1.0s\n",
      "[Parallel(n_jobs=-1)]: Done  49 out of  49 | elapsed:    2.0s finished\n",
      "Features: 102/105[Parallel(n_jobs=-1)]: Using backend LokyBackend with 16 concurrent workers.\n",
      "[Parallel(n_jobs=-1)]: Done  48 out of  48 | elapsed:    1.9s finished\n",
      "Features: 103/105[Parallel(n_jobs=-1)]: Using backend LokyBackend with 16 concurrent workers.\n",
      "[Parallel(n_jobs=-1)]: Done  47 out of  47 | elapsed:    1.9s finished\n",
      "Features: 104/105[Parallel(n_jobs=-1)]: Using backend LokyBackend with 16 concurrent workers.\n",
      "[Parallel(n_jobs=-1)]: Done  46 out of  46 | elapsed:    2.0s finished\n",
      "Features: 105/105"
     ]
    }
   ],
   "source": [
    "## Fit Sequential Feature Selector\n",
    "sfs = SFS(GaussianNB(), k_features=n_features, scoring=\"neg_log_loss\", n_jobs=-1, verbose=1)\n",
    "sfs.fit(X_train, y_train)\n",
    "## Create array of selected Features\n",
    "feature_subsets_bl1 =  pd.DataFrame.from_dict(sfs.subsets_, orient=\"index\")\n",
    "## Choose the feature set with the highest negative loss\n",
    "selected_features_bl1 = feature_subsets_bl1[feature_subsets_bl1.avg_score == feature_subsets_bl1.avg_score.max()][\"feature_idx\"].values\n",
    "## Dump main results\n",
    "pickle.dump(selected_features_bl1, open(\"selected_features_bl1.pkl\",\"wb\"))\n",
    "pickle.dump(feature_subsets_bl1, open(\"feature_subsets_bl1.pkl\",\"wb\"))"
   ]
  },
  {
   "cell_type": "code",
   "execution_count": 14,
   "metadata": {},
   "outputs": [
    {
     "name": "stdout",
     "output_type": "stream",
     "text": [
      "log loss: 0.8447. See the Confusion Matrix below\n"
     ]
    },
    {
     "data": {
      "image/png": "[encoded data removed]",
      "text/plain": [
       "<Figure size 432x288 with 1 Axes>"
      ]
     },
     "metadata": {},
     "output_type": "display_data"
    }
   ],
   "source": [
    "## Load selected_features\n",
    "selected_features_bl1 = pickle.load(open(\"selected_features_bl1.pkl\",\"rb\"))\n",
    "\n",
    "## Pipeline\n",
    "best_bl1 = make_pipeline(ColumnSelector(cols=selected_features_bl1[0]),\n",
    "                         GaussianNB())\n",
    "\n",
    "## Cross Validaton\n",
    "scores = cross_val_score(best_bl1, X_train, y_train, scoring=\"neg_log_loss\", cv=3)\n",
    "print(\"log loss: {:.4f}. See the Confusion Matrix below\".format(np.mean(np.abs(scores))))\n",
    "\n",
    "## Cross_val_predict with pipeline\n",
    "bl1_pred = cross_val_predict(best_bl1, X_train, y_train, n_jobs=-1)\n",
    "\n",
    "## Plot Confusion Matrix\n",
    "conf_matrix = confusion_matrix(y_train, bl1_pred)\n",
    "fig, ax = plot_confusion_matrix(conf_mat=conf_matrix, show_normed=True)\n",
    "plt.show()"
   ]
  },
  {
   "cell_type": "code",
   "execution_count": 24,
   "metadata": {},
   "outputs": [],
   "source": [
    "## Fit and save best estimator\n",
    "best_bl1.fit(X_train,y_train)\n",
    "pickle.dump(best_bl1, open(\"best_bl1.pkl\", \"wb\"))"
   ]
  },
  {
   "cell_type": "markdown",
   "metadata": {},
   "source": [
    "### Base Learner 2 - Regularized Logistic Regression\n",
    "\n",
    "Here I use a LogisticRegression with l1 norm and SelectFromModel to choose the best 105 features to feed the RandomForest with."
   ]
  },
  {
   "cell_type": "code",
   "execution_count": 16,
   "metadata": {},
   "outputs": [
    {
     "name": "stdout",
     "output_type": "stream",
     "text": [
      "Fitting 3 folds for each of 25 candidates, totalling 75 fits\n"
     ]
    },
    {
     "name": "stderr",
     "output_type": "stream",
     "text": [
      "[Parallel(n_jobs=-1)]: Using backend LokyBackend with 16 concurrent workers.\n",
      "[Parallel(n_jobs=-1)]: Done  18 tasks      | elapsed:  1.8min\n",
      "[Parallel(n_jobs=-1)]: Done  75 out of  75 | elapsed:  4.9min finished\n"
     ]
    },
    {
     "name": "stdout",
     "output_type": "stream",
     "text": [
      "Log loss of best estimator: -0.7616\n"
     ]
    },
    {
     "data": {
      "image/png": "[encoded data removed]",
      "text/plain": [
       "<Figure size 432x288 with 1 Axes>"
      ]
     },
     "metadata": {},
     "output_type": "display_data"
    }
   ],
   "source": [
    "## Classifier\n",
    "bl2 = make_pipeline(SelectFromModel(LogisticRegression(penalty=\"l1\", n_jobs=-1), max_features=n_features, threshold=-np.inf),\n",
    "                    LogisticRegression(n_jobs=-1))\n",
    "\n",
    "## Random grid for C\n",
    "c_values = np.linspace(start=0.05, stop=0.95, num=40)\n",
    "random_grid = {'logisticregression__C': c_values}\n",
    "\n",
    "## RandomSearch\n",
    "random_search = RandomizedSearchCV(bl2, random_grid, scoring=\"neg_log_loss\", n_jobs=-1, verbose=1, refit=True, n_iter=25, cv=3)\n",
    "random_search.fit(X_train, y_train)\n",
    "\n",
    "## Get fitted best estimator and print log loss (to get best parameters type: random_search.best_params_)\n",
    "best_bl2 = random_search.best_estimator_\n",
    "print(\"Log loss of best estimator: {:.4f}\".format(random_search.best_score_))\n",
    "\n",
    "## Plot Confusion Matrix\n",
    "conf_matrix = confusion_matrix(y_valid, best_bl2.predict(X_valid))\n",
    "fig, ax = plot_confusion_matrix(conf_mat=conf_matrix, show_normed=True)\n",
    "plt.show()"
   ]
  },
  {
   "cell_type": "code",
   "execution_count": 17,
   "metadata": {},
   "outputs": [],
   "source": [
    "## Save best estimator\n",
    "pickle.dump(best_bl2, open(\"best_bl2.pkl\", \"wb\"))"
   ]
  },
  {
   "cell_type": "markdown",
   "metadata": {},
   "source": [
    "### Base Learner 3 - Random Forest Classifier\n",
    "Here I use a RidgeClassifier (l2 norm) and SelectFromModel to choose the best 105 features to feed the RandomForest with."
   ]
  },
  {
   "cell_type": "code",
   "execution_count": 18,
   "metadata": {},
   "outputs": [
    {
     "name": "stdout",
     "output_type": "stream",
     "text": [
      "Fitting 3 folds for each of 25 candidates, totalling 75 fits\n"
     ]
    },
    {
     "name": "stderr",
     "output_type": "stream",
     "text": [
      "[Parallel(n_jobs=-1)]: Using backend LokyBackend with 16 concurrent workers.\n",
      "[Parallel(n_jobs=-1)]: Done  18 tasks      | elapsed:   16.9s\n",
      "[Parallel(n_jobs=-1)]: Done  75 out of  75 | elapsed:  1.5min finished\n"
     ]
    },
    {
     "name": "stdout",
     "output_type": "stream",
     "text": [
      "Log loss of best estimator: -0.9670\n"
     ]
    },
    {
     "data": {
      "image/png": "[encoded data removed]",
      "text/plain": [
       "<Figure size 432x288 with 1 Axes>"
      ]
     },
     "metadata": {},
     "output_type": "display_data"
    }
   ],
   "source": [
    "## Pipeline\n",
    "bl3 = make_pipeline(SelectFromModel(RidgeClassifier(), max_features=n_features, threshold=-np.inf),\n",
    "                    RandomForestClassifier(n_jobs=-1))\n",
    "\n",
    "## Random grid\n",
    "n_estimators = list(range(100,1000, 20))\n",
    "max_depth = list(range(1,20,1))\n",
    "min_samples_split = np.linspace(0.1, 0.7, 7, endpoint=True)\n",
    "min_samples_leaf = np.linspace(0.1, 0.3, 5, endpoint=True)\n",
    "max_features = np.linspace(0.1, 0.8, 8, endpoint=True)\n",
    "\n",
    "random_grid = {'randomforestclassifier__n_estimators': n_estimators,\n",
    "               'randomforestclassifier__max_depth': max_depth,\n",
    "               'randomforestclassifier__min_samples_split': min_samples_split,\n",
    "               'randomforestclassifier__min_samples_leaf': min_samples_leaf,\n",
    "               'randomforestclassifier__max_features': max_features}\n",
    "\n",
    "## RandomSearch\n",
    "random_search = RandomizedSearchCV(bl3, random_grid, scoring=\"neg_log_loss\", n_jobs=-1, verbose=1, refit=True, n_iter=25, cv=3)\n",
    "random_search.fit(X_train,y_train)\n",
    "\n",
    "## Get fitted best estimator and print log loss (to get best parameters type: random_search.best_params_)\n",
    "best_bl3 = random_search.best_estimator_\n",
    "print(\"Log loss of best estimator: {:.4f}\".format(random_search.best_score_))\n",
    "\n",
    "## Plot Confusion Matrix\n",
    "conf_matrix = confusion_matrix(y_valid, best_bl3.predict(X_valid))\n",
    "fig, ax = plot_confusion_matrix(conf_mat=conf_matrix, show_normed=True)\n",
    "plt.show()"
   ]
  },
  {
   "cell_type": "code",
   "execution_count": 19,
   "metadata": {},
   "outputs": [],
   "source": [
    "## Save best estimator\n",
    "pickle.dump(best_bl3, open(\"best_bl3.pkl\", \"wb\"))"
   ]
  },
  {
   "cell_type": "markdown",
   "metadata": {},
   "source": [
    "### Base Learner 4 - XGBoost Classifier\n",
    "Here I use a RandomForestClassifier and SelectFromModel to choose the best 105 features to feed XGBoost with."
   ]
  },
  {
   "cell_type": "code",
   "execution_count": 20,
   "metadata": {},
   "outputs": [
    {
     "name": "stdout",
     "output_type": "stream",
     "text": [
      "Fitting 3 folds for each of 25 candidates, totalling 75 fits\n"
     ]
    },
    {
     "name": "stderr",
     "output_type": "stream",
     "text": [
      "[Parallel(n_jobs=-1)]: Using backend LokyBackend with 16 concurrent workers.\n",
      "[Parallel(n_jobs=-1)]: Done  18 tasks      | elapsed:  2.5min\n",
      "[Parallel(n_jobs=-1)]: Done  75 out of  75 | elapsed: 10.9min finished\n"
     ]
    },
    {
     "name": "stdout",
     "output_type": "stream",
     "text": [
      "Log loss of best estimator: -0.6683\n"
     ]
    },
    {
     "data": {
      "image/png": "[encoded data removed]",
      "text/plain": [
       "<Figure size 432x288 with 1 Axes>"
      ]
     },
     "metadata": {},
     "output_type": "display_data"
    }
   ],
   "source": [
    "## Pipeline\n",
    "bl4 = make_pipeline(SelectFromModel(RandomForestClassifier(n_jobs=-1), max_features=n_features, threshold=-np.inf),\n",
    "                    XGBClassifier(n_jobs=-1))\n",
    "\n",
    "## Random grid\n",
    "n_estimators = list(range(100,1000, 20))\n",
    "max_depth = list(range(1,20,1))\n",
    "min_samples_split = np.linspace(0.1, 0.7, 7, endpoint=True)\n",
    "subsample = np.linspace(0.7, 1, 5, endpoint=True)\n",
    "colsample_bytree = np.linspace(0.1, 0.8, 8, endpoint=True)\n",
    "learning_rate = [0.01, 0.05, 0.10, 0.15, 0.20, 0.25, 0.30]\n",
    "\n",
    "random_grid = {'xgbclassifier__n_estimators': n_estimators,\n",
    "               'xgbclassifier__max_depth': max_depth,\n",
    "               'xgbclassifier__min_samples_split': min_samples_split,\n",
    "               'xgbclassifier__subsample': subsample,\n",
    "               'xgbclassifier__colsample_bytree': colsample_bytree,\n",
    "               'xgbclassifier__learning_rate': learning_rate}\n",
    "\n",
    "## RandomSearch\n",
    "random_search = RandomizedSearchCV(bl4, random_grid, scoring=\"neg_log_loss\", n_jobs=-1, verbose=1, refit=True, n_iter=25, cv=3)\n",
    "random_search.fit(X_train,y_train)\n",
    "\n",
    "## Get fitted best estimator and print log loss (to get best parameters type: random_search.best_params_)\n",
    "best_bl4 = random_search.best_estimator_\n",
    "print(\"Log loss of best estimator: {:.4f}\".format(random_search.best_score_))\n",
    "\n",
    "## Plot Confusion Matrix\n",
    "conf_matrix = confusion_matrix(y_valid, best_bl4.predict(X_valid))\n",
    "fig, ax = plot_confusion_matrix(conf_mat=conf_matrix, show_normed=True)\n",
    "plt.show()"
   ]
  },
  {
   "cell_type": "code",
   "execution_count": 21,
   "metadata": {},
   "outputs": [],
   "source": [
    "## Save best estimator\n",
    "pickle.dump(best_bl4, open(\"best_bl4.pkl\", \"wb\"))"
   ]
  },
  {
   "cell_type": "markdown",
   "metadata": {},
   "source": [
    "## CheckPoint 2"
   ]
  },
  {
   "cell_type": "code",
   "execution_count": 22,
   "metadata": {},
   "outputs": [],
   "source": [
    "## Load best models\n",
    "best_bl1 = pickle.load(open(\"best_bl1.pkl\", \"rb\"))\n",
    "best_bl2 = pickle.load(open(\"best_bl2.pkl\", \"rb\"))\n",
    "best_bl3 = pickle.load(open(\"best_bl3.pkl\", \"rb\"))\n",
    "best_bl4 = pickle.load(open(\"best_bl4.pkl\", \"rb\"))"
   ]
  },
  {
   "cell_type": "markdown",
   "metadata": {},
   "source": [
    "## Correlation Between Base Learners\n",
    "\n",
    "If we check the correlation between our base learners' predictions we see that we built a a truly diverse set of estimators (correlation is not very high). This means that stacking will be fruitful."
   ]
  },
  {
   "cell_type": "code",
   "execution_count": 27,
   "metadata": {},
   "outputs": [
    {
     "data": {
      "text/html": [
       "<div>\n",
       "<style scoped>\n",
       "    .dataframe tbody tr th:only-of-type {\n",
       "        vertical-align: middle;\n",
       "    }\n",
       "\n",
       "    .dataframe tbody tr th {\n",
       "        vertical-align: top;\n",
       "    }\n",
       "\n",
       "    .dataframe thead th {\n",
       "        text-align: right;\n",
       "    }\n",
       "</style>\n",
       "<table border=\"1\" class=\"dataframe\">\n",
       "  <thead>\n",
       "    <tr style=\"text-align: right;\">\n",
       "      <th></th>\n",
       "      <th>y_valid</th>\n",
       "      <th>best_bl1</th>\n",
       "      <th>best_bl2</th>\n",
       "      <th>best_bl3</th>\n",
       "      <th>best_bl4</th>\n",
       "    </tr>\n",
       "  </thead>\n",
       "  <tbody>\n",
       "    <tr>\n",
       "      <th>y_valid</th>\n",
       "      <td>1.000000</td>\n",
       "      <td>0.450942</td>\n",
       "      <td>0.504696</td>\n",
       "      <td>0.344429</td>\n",
       "      <td>0.555186</td>\n",
       "    </tr>\n",
       "    <tr>\n",
       "      <th>best_bl1</th>\n",
       "      <td>0.450942</td>\n",
       "      <td>1.000000</td>\n",
       "      <td>0.652696</td>\n",
       "      <td>0.406469</td>\n",
       "      <td>0.597734</td>\n",
       "    </tr>\n",
       "    <tr>\n",
       "      <th>best_bl2</th>\n",
       "      <td>0.504696</td>\n",
       "      <td>0.652696</td>\n",
       "      <td>1.000000</td>\n",
       "      <td>0.379015</td>\n",
       "      <td>0.669569</td>\n",
       "    </tr>\n",
       "    <tr>\n",
       "      <th>best_bl3</th>\n",
       "      <td>0.344429</td>\n",
       "      <td>0.406469</td>\n",
       "      <td>0.379015</td>\n",
       "      <td>1.000000</td>\n",
       "      <td>0.451508</td>\n",
       "    </tr>\n",
       "    <tr>\n",
       "      <th>best_bl4</th>\n",
       "      <td>0.555186</td>\n",
       "      <td>0.597734</td>\n",
       "      <td>0.669569</td>\n",
       "      <td>0.451508</td>\n",
       "      <td>1.000000</td>\n",
       "    </tr>\n",
       "  </tbody>\n",
       "</table>\n",
       "</div>"
      ],
      "text/plain": [
       "           y_valid  best_bl1  best_bl2  best_bl3  best_bl4\n",
       "y_valid   1.000000  0.450942  0.504696  0.344429  0.555186\n",
       "best_bl1  0.450942  1.000000  0.652696  0.406469  0.597734\n",
       "best_bl2  0.504696  0.652696  1.000000  0.379015  0.669569\n",
       "best_bl3  0.344429  0.406469  0.379015  1.000000  0.451508\n",
       "best_bl4  0.555186  0.597734  0.669569  0.451508  1.000000"
      ]
     },
     "execution_count": 27,
     "metadata": {},
     "output_type": "execute_result"
    }
   ],
   "source": [
    "## Correlation between models\n",
    "\n",
    "bl1_pred = best_bl1.predict(X_valid)\n",
    "bl2_pred = best_bl2.predict(X_valid)\n",
    "bl3_pred = best_bl3.predict(X_valid)\n",
    "bl4_pred = best_bl4.predict(X_valid)\n",
    "\n",
    "## Build DataFrame\n",
    "preds = pd.DataFrame({\"y_valid\": y_valid, \"best_bl1\": bl1_pred,\"best_bl2\": bl2_pred, \"best_bl3\": bl3_pred, \"best_bl4\": bl4_pred})\n",
    "preds.apply(LabelEncoder().fit_transform).corr()"
   ]
  },
  {
   "cell_type": "code",
   "execution_count": 28,
   "metadata": {},
   "outputs": [
    {
     "name": "stdout",
     "output_type": "stream",
     "text": [
      "Validation Score best_bl1: 0.8606561483392979\n",
      "Validation Score best_bl2: 0.7531110256842791\n",
      "Validation Score best_bl3: 0.9657618123427221\n",
      "Validation Score best_bl4: 0.6651254765572898\n"
     ]
    }
   ],
   "source": [
    "## Validation Log Loss of Base Learners\n",
    "print(\"Validation Score best_bl1:\", log_loss(y_valid, best_bl1.predict_proba(X_valid)))\n",
    "print(\"Validation Score best_bl2:\", log_loss(y_valid, best_bl2.predict_proba(X_valid)))\n",
    "print(\"Validation Score best_bl3:\", log_loss(y_valid, best_bl3.predict_proba(X_valid)))\n",
    "print(\"Validation Score best_bl4:\", log_loss(y_valid, best_bl4.predict_proba(X_valid)))"
   ]
  },
  {
   "cell_type": "markdown",
   "metadata": {},
   "source": [
    "## Stacking Classifier - XGBoostClassifier"
   ]
  },
  {
   "cell_type": "markdown",
   "metadata": {},
   "source": [
    "The Stacking Classifier will be trained on meta-features but I will use probability distributions instead of predictions. In addition, I will include the original set features. This is important because raw features may add a context that's useful to get the most out of the set of meta-features. Finally I use StackingCVClassifier instead of StackingClassifier to avoid overfitting (see mlxtend docs for details)."
   ]
  },
  {
   "cell_type": "code",
   "execution_count": 29,
   "metadata": {},
   "outputs": [
    {
     "name": "stdout",
     "output_type": "stream",
     "text": [
      "Fitting 3 folds for each of 30 candidates, totalling 90 fits\n"
     ]
    },
    {
     "name": "stderr",
     "output_type": "stream",
     "text": [
      "[Parallel(n_jobs=-1)]: Using backend LokyBackend with 16 concurrent workers.\n",
      "[Parallel(n_jobs=-1)]: Done  18 tasks      | elapsed: 19.3min\n",
      "[Parallel(n_jobs=-1)]: Done  90 out of  90 | elapsed: 70.1min finished\n"
     ]
    },
    {
     "name": "stdout",
     "output_type": "stream",
     "text": [
      "Log loss of best estimator: -0.6554\n"
     ]
    },
    {
     "data": {
      "image/png": "[encoded data removed]",
      "text/plain": [
       "<Figure size 432x288 with 1 Axes>"
      ]
     },
     "metadata": {},
     "output_type": "display_data"
    }
   ],
   "source": [
    "## Create Stacking Classifier\n",
    "sclf = StackingCVClassifier([best_bl1, best_bl2, best_bl3, best_bl4],\n",
    "                       meta_classifier=XGBClassifier(n_jobs=-1),\n",
    "                       use_probas=True,\n",
    "                       use_features_in_secondary=True)\n",
    "\n",
    "## Random grid\n",
    "n_estimators = list(range(100,1000, 20))\n",
    "max_depth = list(range(1,20,1))\n",
    "min_samples_split = np.linspace(0.1, 0.7, 7, endpoint=True)\n",
    "min_samples_leaf = np.linspace(0.1, 0.3, 5, endpoint=True)\n",
    "max_features = np.linspace(0.1, 0.8, 8, endpoint=True)\n",
    "\n",
    "random_grid = {'meta-xgbclassifier__n_estimators': n_estimators,\n",
    "               'meta-xgbclassifier__max_depth': max_depth,\n",
    "               'meta-xgbclassifier__min_samples_split': min_samples_split,\n",
    "               'meta-xgbclassifier__subsample': subsample,\n",
    "               'meta-xgbclassifier__colsample_bytree': colsample_bytree,\n",
    "               'meta-xgbclassifier__learning_rate': learning_rate}\n",
    "\n",
    "## RandomSearch\n",
    "random_search = RandomizedSearchCV(sclf, random_grid, scoring=\"neg_log_loss\", n_jobs=-1, verbose=1, refit=True, n_iter=30, cv=3)\n",
    "\n",
    "## Do not use y_train with dtype = categorical: StackingCVClassifier does not work with it\n",
    "random_search.fit(X_train,y_train.values.astype(\"O\"))\n",
    "\n",
    "## Get fitted best estimator and print log loss (to get best parameters type: random_search.best_params_)\n",
    "best_sclf = random_search.best_estimator_\n",
    "print(\"Log loss of best estimator: {:.4f}\".format(random_search.best_score_))\n",
    "\n",
    "## Save best estimator\n",
    "pickle.dump(best_sclf, open(\"best_sclf.pkl\", \"wb\"))\n",
    "\n",
    "## Plot Confusion Matrix\n",
    "conf_matrix = confusion_matrix(y_valid, best_sclf.predict(X_valid))\n",
    "fig, ax = plot_confusion_matrix(conf_mat=conf_matrix, show_normed=True)\n",
    "plt.show()"
   ]
  }
 ],
 "metadata": {
  "kernel_info": {
   "name": "python3"
  },
  "kernelspec": {
   "display_name": "Python 3",
   "language": "python",
   "name": "python3"
  },
  "language_info": {
   "codemirror_mode": {
    "name": "ipython",
    "version": 3
   },
   "file_extension": ".py",
   "mimetype": "text/x-python",
   "name": "python",
   "nbconvert_exporter": "python",
   "pygments_lexer": "ipython3",
   "version": "3.7.1"
  },
  "nteract": {
   "version": "0.12.2"
  }
 },
 "nbformat": 4,
 "nbformat_minor": 2
}
